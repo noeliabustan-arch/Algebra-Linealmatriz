{
  "nbformat": 4,
  "nbformat_minor": 0,
  "metadata": {
    "colab": {
      "provenance": [],
      "authorship_tag": "ABX9TyN0gcUbQcIGD51o4WjfHZdS",
      "include_colab_link": true
    },
    "kernelspec": {
      "name": "python3",
      "display_name": "Python 3"
    },
    "language_info": {
      "name": "python"
    }
  },
  "cells": [
    {
      "cell_type": "markdown",
      "metadata": {
        "id": "view-in-github",
        "colab_type": "text"
      },
      "source": [
        "<a href=\"https://colab.research.google.com/github/noeliabustan-arch/Algebra-Linealmatriz/blob/main/Untitled2.ipynb\" target=\"_parent\"><img src=\"https://colab.research.google.com/assets/colab-badge.svg\" alt=\"Open In Colab\"/></a>"
      ]
    },
    {
      "cell_type": "code",
      "execution_count": null,
      "metadata": {
        "colab": {
          "base_uri": "https://localhost:8080/"
        },
        "id": "9N-GLGQafUJo",
        "outputId": "2bab546f-fec2-4304-b877-6778e6364c9b"
      },
      "outputs": [
        {
          "output_type": "stream",
          "name": "stdout",
          "text": [
            "Matriz A:\n",
            " [[ 1  0]\n",
            " [ 6 -2]\n",
            " [-1  4]]\n",
            "\n",
            "Matriz B:\n",
            " [[ 2 -5  1 -2]\n",
            " [ 3  2  0 -1]]\n",
            "\n",
            " Multiplicación por escalar (2 * A):\n",
            " [[ 2  0]\n",
            " [12 -4]\n",
            " [-2  8]]\n",
            "\n",
            " Producto matricial (A * B):\n",
            " [[  2  -5   1  -2]\n",
            " [  6 -34   6 -10]\n",
            " [ 10  13  -1  -2]]\n",
            "Hora actual en Ecuador: 2025-10-20 15:36:32\n",
            "Noelia Bustan\n",
            "Primer ciclo - Computación\n"
          ]
        }
      ],
      "source": [
        "import numpy as np\n",
        "\n",
        "# Definir dos matrices A y B de 3x3\n",
        "A = np.array([[1, 0],\n",
        "              [6, -2],\n",
        "              [-1, 4]])\n",
        "\n",
        "B = np.array([[2, -5, 1, -2],\n",
        "              [3, 2, 0, -1],])\n",
        "\n",
        "print(\"Matriz A:\\n\", A)\n",
        "print(\"\\nMatriz B:\\n\", B)\n",
        "\n",
        "# ------------------------------\n",
        "# Suma de matrices\n",
        "# ------------------------------\n",
        "\"\"\"suma = A + B\n",
        "print(\"\\n Suma (A + B):\\n\", suma)\"\"\"\n",
        "\n",
        "# ------------------------------\n",
        "#  Resta de matrices\n",
        "# ------------------------------\n",
        "\"\"\"resta = A - B\n",
        "print(\"\\n Resta (A - B):\\n\", resta)\"\"\"\n",
        "\n",
        "# ------------------------------\n",
        "# Multiplicación por un escalar\n",
        "# ------------------------------\n",
        "escalar = 2\n",
        "producto_escalar = escalar * A\n",
        "print(f\"\\n Multiplicación por escalar ({escalar} * A):\\n\", producto_escalar)\n",
        "\n",
        "# ------------------------------\n",
        "#  Multiplicación matricial\n",
        "# ------------------------------\n",
        "producto = np.dot(A, B)   # o A @ B\n",
        "print(\"\\n Producto matricial (A * B):\\n\", producto)\n",
        "valor= A[0,0]*B[0,0]+A[0,1]*B[1,0]\n",
        "from datetime import datetime\n",
        "import pytz\n",
        "# Definir la zona horaria de Ecuador\n",
        "ecuador_tz = pytz.timezone(\"America/Guayaquil\")\n",
        "\n",
        "#Obtener la hora actual en Ecuador\n",
        "hora_actual = datetime.now(ecuador_tz)\n",
        "\n",
        "# Imprimir la hora en formato legible\n",
        "print(\"Hora actual en Ecuador:\", hora_actual.strftime(\"%Y-%m-%d %H:%M:%S\"))\n",
        "print(\"Noelia Bustan\")\n",
        "print(\"Primer ciclo - Computación\")\n",
        "\n",
        "\n",
        "# ------------------------------\n"
      ]
    }
  ]
}
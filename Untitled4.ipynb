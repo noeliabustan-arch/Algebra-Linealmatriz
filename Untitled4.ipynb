{
  "nbformat": 4,
  "nbformat_minor": 0,
  "metadata": {
    "colab": {
      "provenance": [],
      "authorship_tag": "ABX9TyNH/p06SvNpoo+x2+8UIJLf",
      "include_colab_link": true
    },
    "kernelspec": {
      "name": "python3",
      "display_name": "Python 3"
    },
    "language_info": {
      "name": "python"
    }
  },
  "cells": [
    {
      "cell_type": "markdown",
      "metadata": {
        "id": "view-in-github",
        "colab_type": "text"
      },
      "source": [
        "<a href=\"https://colab.research.google.com/github/noeliabustan-arch/Algebra-Linealmatriz/blob/main/Untitled4.ipynb\" target=\"_parent\"><img src=\"https://colab.research.google.com/assets/colab-badge.svg\" alt=\"Open In Colab\"/></a>"
      ]
    },
    {
      "cell_type": "code",
      "execution_count": 4,
      "metadata": {
        "colab": {
          "base_uri": "https://localhost:8080/"
        },
        "id": "f1NEK6stOs8z",
        "outputId": "394c1e08-d335-4187-f214-1dfe1a9f7aad"
      },
      "outputs": [
        {
          "output_type": "stream",
          "name": "stdout",
          "text": [
            "Matriz A:\n",
            " [[ 2  4  6]\n",
            " [ 1  3  5]\n",
            " [ 0 -1  2]]\n",
            "\n",
            "Matriz B:\n",
            " [[ 3  2  1]\n",
            " [ 4  0 -2]\n",
            " [ 1  3  5]]\n",
            "\n",
            " Suma (A + B):\n",
            " [[5 6 7]\n",
            " [5 3 3]\n",
            " [1 2 7]]\n",
            "\n",
            " Resta (A - B):\n",
            " [[-1  2  5]\n",
            " [-3  3  7]\n",
            " [-1 -4 -3]]\n",
            "\n",
            " Multiplicación por escalar (2 * A):\n",
            " [[ 4  8 12]\n",
            " [ 2  6 10]\n",
            " [ 0 -2  4]]\n",
            "\n",
            " Producto matricial (A * B):\n",
            " [[28 22 24]\n",
            " [20 17 20]\n",
            " [-2  6 12]]\n",
            "Hora actual en Ecuador: 2025-10-23 17:58:04\n",
            "Noelia Bustan\n",
            "Primer ciclo - Computación\n"
          ]
        }
      ],
      "source": [
        "import numpy as np\n",
        "\n",
        "# Definir dos matrices A y B de 3x3\n",
        "A = np.array([[2, 4, 6],\n",
        "              [1, 3, 5],\n",
        "              [0, -1, 2]])\n",
        "\n",
        "B = np.array([[3, 2, 1],\n",
        "              [4, 0, -2],\n",
        "              [1, 3, 5]])\n",
        "\n",
        "print(\"Matriz A:\\n\", A)\n",
        "print(\"\\nMatriz B:\\n\", B)\n",
        "\n",
        "# ------------------------------\n",
        "# Suma de matrices\n",
        "# ------------------------------\n",
        "suma = A + B\n",
        "print(\"\\n Suma (A + B):\\n\", suma)\n",
        "\n",
        "# ------------------------------\n",
        "#  Resta de matrices\n",
        "# ------------------------------\n",
        "resta = A - B\n",
        "print(\"\\n Resta (A - B):\\n\", resta)\n",
        "\n",
        "# ------------------------------\n",
        "# Multiplicación por un escalar\n",
        "# ------------------------------\n",
        "escalar = 2\n",
        "producto_escalar = escalar * A\n",
        "print(f\"\\n Multiplicación por escalar ({escalar} * A):\\n\", producto_escalar)\n",
        "\n",
        "# ------------------------------\n",
        "#  Multiplicación matricial\n",
        "# ------------------------------\n",
        "producto = np.dot(A, B)   # o A @ B\n",
        "print(\"\\n Producto matricial (A * B):\\n\", producto)\n",
        "valor= A[0,0]*B[0,0]+A[0,1]*B[1,0]\n",
        "from datetime import datetime\n",
        "import pytz\n",
        "# Definir la zona horaria de Ecuador\n",
        "ecuador_tz = pytz.timezone(\"America/Guayaquil\")\n",
        "\n",
        "#Obtener la hora actual en Ecuador\n",
        "hora_actual = datetime.now(ecuador_tz)\n",
        "\n",
        "# Imprimir la hora en formato legible\n",
        "print(\"Hora actual en Ecuador:\", hora_actual.strftime(\"%Y-%m-%d %H:%M:%S\"))\n",
        "print(\"Noelia Bustan\")\n",
        "print(\"Primer ciclo - Computación\")\n"
      ]
    }
  ]
}